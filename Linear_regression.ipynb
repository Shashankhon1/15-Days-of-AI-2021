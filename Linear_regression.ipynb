{
  "nbformat": 4,
  "nbformat_minor": 0,
  "metadata": {
    "colab": {
      "name": "Copy of Untitled0.ipynb",
      "provenance": [],
      "collapsed_sections": [],
      "authorship_tag": "ABX9TyNJkx84uU9baHalBWiGbJ4v",
      "include_colab_link": true
    },
    "kernelspec": {
      "name": "python3",
      "display_name": "Python 3"
    },
    "language_info": {
      "name": "python"
    }
  },
  "cells": [
    {
      "cell_type": "markdown",
      "metadata": {
        "id": "view-in-github",
        "colab_type": "text"
      },
      "source": [
        "<a href=\"https://colab.research.google.com/github/Shashankhon1/15-Days-of-AI-2021/blob/Shashank-H-S/Linear_regression.ipynb\" target=\"_parent\"><img src=\"https://colab.research.google.com/assets/colab-badge.svg\" alt=\"Open In Colab\"/></a>"
      ]
    },
    {
      "cell_type": "code",
      "metadata": {
        "id": "wx4kfVNc3VNs"
      },
      "source": [
        "from google.colab import files\n",
        "uploaded=files.upload()\n",
        "\n"
      ],
      "execution_count": null,
      "outputs": []
    },
    {
      "cell_type": "code",
      "metadata": {
        "id": "5UB9ZLI23TUL"
      },
      "source": [
        "\n",
        "import matplotlib.pyplot as plt\n",
        "import numpy as np\n",
        "import pandas as pd\n",
        "dataset=pd.read_csv('Fish.csv')\n",
        "x=dataset['Length3'].values\n",
        "y=dataset['Width'].values\n",
        "x_mean=np.mean(x)\n",
        "y_mean=np.mean(y)\n",
        "n=len(x)\n",
        "numerator=0\n",
        "denominator=0\n",
        "for i in range(n):\n",
        "  numerator+=(x[i]-x_mean)*(y[i]-y_mean)\n",
        "  denominator+=(x[i]-x_mean)**2\n",
        "  b1=numerator/denominator\n",
        "  b0=y_mean-(b1*x_mean)\n",
        "  print(b0,b1)"
      ],
      "execution_count": null,
      "outputs": []
    },
    {
      "cell_type": "code",
      "metadata": {
        "colab": {
          "base_uri": "https://localhost:8080/",
          "height": 265
        },
        "id": "NvjV7Z7xzeaF",
        "outputId": "776c5dd8-e2e7-46b8-8116-c531890472c1"
      },
      "source": [
        "x_max=np.max(x)\n",
        "x_min=np.min(x)\n",
        "x=np.linspace(x_min,x_max, 10)\n",
        "y=b0+b1*x\n",
        "plt.plot(x,y, color='red',label='Linear regression')\n",
        "\n",
        "plt.show()\n"
      ],
      "execution_count": null,
      "outputs": [
        {
          "output_type": "display_data",
          "data": {
            "image/png": "[encoded data removed]",
            "text/plain": [
              "<Figure size 432x288 with 1 Axes>"
            ]
          },
          "metadata": {
            "tags": [],
            "needs_background": "light"
          }
        }
      ]
    }
  ]
}